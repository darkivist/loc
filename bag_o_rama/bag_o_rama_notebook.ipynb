{
 "cells": [
  {
   "cell_type": "markdown",
   "metadata": {},
   "source": [
    "#### Bag-o-rama   \n",
    "This notebook will help you create BagIt-compliant bags complete with custom tags and profiles. It will also remove hidden macOS system files before hashing. It has been tested with a 64 bit Anaconda environment (featuring Jupyter Notebook) in Windows, but should work in macOS and system Python with minor adjustments. It requires BagIt python (https://github.com/LibraryOfCongress/bagit-python) and Grabbags (https://github.com/amiaopensource/grabbags).\n",
    "\n",
    "Please read the directions, and run each cell one-at-a-time, in order. To run a cell, click it and press ```ctrl``` and ```enter``` on your keyboard.  \n",
    "\n",
    "First, securely copy content from the donor's original drive to a working drive. Then, attach the working drive with the content you wish to bag arranged like so:  \n",
    "\n",
    "```\n",
    "\\parent directory\n",
    "    \\directory to be bagged\n",
    "        \\items to be bagged\n",
    "    \\directory to be bagged\n",
    "        \\items to be bagged\n",
    "```\n",
    "    \n",
    "If you are creating a single bag, your package will feature one parent directory and one directory to be bagged (or child directory). If you are creating multiple bags, your package will feature one parent directory and one child directory per intended number of bags. The parent directory can be named whatever you like; the child directories must be named in accordance with your intended bag name.  \n",
    "\n",
    "---  \n",
    "\n",
    "Note 1: Make sure your child directories contain collection items ONLY. Additional metadata and reports will be added later.  \n",
    "\n",
    "Note 2: Remove Mac system folders from the top level of your child directories manually before proceeding (these directories will appear as grayed-out in Windows Explorer and their filenames will begin with a period). Right click them, delete, then empty your Recycle Bin.  \n",
    "\n",
    "---  \n",
    "\n",
    "Now replace ```X:\\insert\\path\\to\\parent\\directory``` in the next cell with the path to your parent directory. Also be sure to change '4' in the command to match your CPU core count, if known. Then, run the cell and wait. Be patient - this step may take several hours."
   ]
  },
  {
   "cell_type": "code",
   "execution_count": null,
   "metadata": {},
   "outputs": [],
   "source": [
    "%%cmd\n",
    "grabbags --no-system-files --md5 --processes 4 X:\\insert\\path\\to\\parent\\directory"
   ]
  },
  {
   "cell_type": "markdown",
   "metadata": {},
   "source": [
    "Your content will now be rearraanged into BagIt structure, like so:  \n",
    "\n",
    "```\n",
    "\\bag directory\n",
    "    \\data\n",
    "```\n",
    "\n",
    "Now, copy any reports you wish to include as tag files (e.g. an Exiftool or bulk_extractor report) to your bag directory. Do not add anything to the data directory. Next, replace ```X:\\insert\\path\\to\\bag\\here``` in the cell below with the path to your bag. Then, run the cell. If you created multiple bags in the previous operation, repeat this process for every bag. "
   ]
  },
  {
   "cell_type": "code",
   "execution_count": null,
   "metadata": {},
   "outputs": [],
   "source": [
    "import bagit\n",
    "import os\n",
    "\n",
    "# Add reports to tag manifest\n",
    "\n",
    "# load the bag\n",
    "bag = bagit.Bag('X:\\insert\\path\\to\\bag\\here')\n",
    "\n",
    "# update tag metadata\n",
    "bag.save()"
   ]
  },
  {
   "cell_type": "markdown",
   "metadata": {},
   "source": [
    "Now, replace ```X:\\insert\\path\\to\\bag\\here``` in the cell below with the path to your bag. Edit the sample information in the cell to add information you wish to include in the BagInfo.txt file, then run the cell. If you created multiple bags earlier, repeat this process for every bag."
   ]
  },
  {
   "cell_type": "code",
   "execution_count": null,
   "metadata": {},
   "outputs": [],
   "source": [
    "# Add custom fields to baginfo.txt (American Folklife Center profile used as sample)\n",
    "\n",
    "# load the bag\n",
    "bag = bagit.Bag('X:\\insert\\path\\to\\bag\\here')\n",
    "\n",
    "# enter bag info metadata\n",
    "bag.info['Profile Name'] = 'AFC-Default'\n",
    "bag.info['LCCN-Permalink'] = ''\n",
    "bag.info['LC-Master-Files'] = ''\n",
    "bag.info['LC-Bag-Id'] = ''\n",
    "bag.info['Local-Description'] = ''\n",
    "bag.info['LC-Content-Type'] = 'mixed'\n",
    "bag.info['Internal-Sender-Indentifier'] = ''\n",
    "bag.info['LC-LCCN'] = '2022655200'\n",
    "bag.info['LC-Content-Process'] = 'content_transfer'\n",
    "bag.info['LC-Items'] = ''\n",
    "bag.info['LC-Project'] = 'afcaccessioning'\n",
    "bag.info['LC-Content-Provider'] = 'afc'\n",
    "bag.info['Local-Contact-Email'] = ''\n",
    "bag.info['Local-Contact-Name'] = ''\n",
    "bag.info['External Description'] = ''\n",
    "bag.info['Local-Organization'] = 'American Folklife Center'\n",
    "bag.info['AFC-Type'] = 'hard disk drive'\n",
    "\n",
    "# save to baginfo.txt\n",
    "bag.save()"
   ]
  },
  {
   "cell_type": "markdown",
   "metadata": {},
   "source": [
    "If all of the above ran without error, your bag(s) are now ready. Congratulations! "
   ]
  }
 ],
 "metadata": {
  "kernelspec": {
   "display_name": "Python 3",
   "language": "python",
   "name": "python3"
  },
  "language_info": {
   "codemirror_mode": {
    "name": "ipython",
    "version": 3
   },
   "file_extension": ".py",
   "mimetype": "text/x-python",
   "name": "python",
   "nbconvert_exporter": "python",
   "pygments_lexer": "ipython3",
   "version": "3.8.5"
  }
 },
 "nbformat": 4,
 "nbformat_minor": 4
}
